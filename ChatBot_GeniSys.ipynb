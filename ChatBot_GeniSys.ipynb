{
  "nbformat": 4,
  "nbformat_minor": 0,
  "metadata": {
    "colab": {
      "name": "ChatBot--GeniSys.ipynb",
      "provenance": [],
      "mount_file_id": "1cQ711UC7g4xcA72gUjzv3dzIcQnZIIdA",
      "authorship_tag": "ABX9TyOBjZwPf5PKyUE/NWzPOev6",
      "include_colab_link": true
    },
    "kernelspec": {
      "name": "python3",
      "display_name": "Python 3"
    },
    "language_info": {
      "name": "python"
    }
  },
  "cells": [
    {
      "cell_type": "markdown",
      "metadata": {
        "id": "view-in-github",
        "colab_type": "text"
      },
      "source": [
        "<a href=\"https://colab.research.google.com/github/ArpitaChatterjee/ChatBot/blob/main/ChatBot_GeniSys.ipynb\" target=\"_parent\"><img src=\"https://colab.research.google.com/assets/colab-badge.svg\" alt=\"Open In Colab\"/></a>"
      ]
    },
    {
      "cell_type": "markdown",
      "metadata": {
        "id": "PMFCwCmGdMMX"
      },
      "source": [
        "#Import Libraries"
      ]
    },
    {
      "cell_type": "code",
      "metadata": {
        "id": "XrvbDaD3dECg"
      },
      "source": [
        "import numpy as np\n",
        "import json\n",
        "import re\n",
        "import tensorflow as tf\n",
        "import random\n",
        "import spacy\n",
        "nlp = spacy.load('en_core_web_sm')"
      ],
      "execution_count": 1,
      "outputs": []
    },
    {
      "cell_type": "markdown",
      "metadata": {
        "id": "Q6CdYn9Wd3Ou"
      },
      "source": [
        "#Import JSON file"
      ]
    },
    {
      "cell_type": "code",
      "metadata": {
        "id": "q5l6riL9dPZf"
      },
      "source": [
        "with open('/content/drive/MyDrive/Colab Notebooks/ChatBot/Intent.json') as f:\n",
        "  intents= json.load(f)"
      ],
      "execution_count": 20,
      "outputs": []
    },
    {
      "cell_type": "markdown",
      "metadata": {
        "id": "zrbkPb-AeFKj"
      },
      "source": [
        "#Preprocessing Data\n",
        "\n",
        "- Clean the data\n",
        "- split them into inputs and target tensors\n",
        "-build  a tokenizer dictionary and turn sentences into sequences.\n",
        "\n",
        "The target tensors has a bunch of list with a length of unique title list.\n"
      ]
    },
    {
      "cell_type": "code",
      "metadata": {
        "id": "X5gWndA7eDfL"
      },
      "source": [
        "def preprocessing(line):\n",
        "  line= re.sub(r'[^a-zA-z.?!\\']', ' ', line)\n",
        "  line= re.sub(r'[ ]+', ' ', line)\n",
        "  return line"
      ],
      "execution_count": 21,
      "outputs": []
    },
    {
      "cell_type": "code",
      "metadata": {
        "id": "-OJvQDMvfzfF"
      },
      "source": [
        "#get text and intent title from json data\n",
        "inputs, targets= [], []\n",
        "classes= []\n",
        "intent_doc= {}\n",
        "\n",
        "for intent in intents['intents']:\n",
        "  if intent['intent'] not in classes:\n",
        "    classes.append(intent['intent'])\n",
        "  if intent['intent'] not in intent_doc:\n",
        "    intent_doc[intent['intent']] = []\n",
        "        \n",
        "  for text in intent['text']:\n",
        "    inputs.append(preprocessing(text))\n",
        "    targets.append(intent['intent'])\n",
        "        \n",
        "  for response in intent['responses']:\n",
        "    intent_doc[intent['intent']].append(response)"
      ],
      "execution_count": 22,
      "outputs": []
    },
    {
      "cell_type": "code",
      "metadata": {
        "id": "L06vjBMwgmQ6"
      },
      "source": [
        "#tokenize\n",
        "def tokenize_data(input_list):\n",
        "  tokenizer= tf.keras.preprocessing.text.Tokenizer(filters='', oov_token='<unk>')\n",
        "\n",
        "  tokenizer.fit_on_texts(input_list)\n",
        "  input_seq = tokenizer.texts_to_sequences(input_list)\n",
        "  input_seq = tf.keras.preprocessing.sequence.pad_sequences(input_seq, padding='pre')\n",
        "\n",
        "  return tokenizer, input_seq\n",
        "\n",
        "#preprocess input data\n",
        "tokenizer , input_tensor = tokenize_data(inputs)"
      ],
      "execution_count": 23,
      "outputs": []
    },
    {
      "cell_type": "code",
      "metadata": {
        "id": "MmwGL-rwhu98"
      },
      "source": [
        "def create_categorical_target(targets):\n",
        "    word={}\n",
        "    categorical_target=[]\n",
        "    counter=0\n",
        "    for trg in targets:\n",
        "        if trg not in word:\n",
        "            word[trg]=counter\n",
        "            counter+=1\n",
        "        categorical_target.append(word[trg])\n",
        "    \n",
        "    categorical_tensor = tf.keras.utils.to_categorical(categorical_target, num_classes=len(word), dtype='int32')\n",
        "    return categorical_tensor, dict((v,k) for k, v in word.items())\n",
        "\n",
        "# preprocess output data\n",
        "target_tensor, trg_index_word = create_categorical_target(targets)"
      ],
      "execution_count": 24,
      "outputs": []
    },
    {
      "cell_type": "code",
      "metadata": {
        "colab": {
          "base_uri": "https://localhost:8080/"
        },
        "id": "JdLcOpsgiIBz",
        "outputId": "e04cd7b5-c63a-442e-a2e7-16a905e15d61"
      },
      "source": [
        "print('input shape: {} and output shape: {}'.format(input_tensor.shape, target_tensor.shape))"
      ],
      "execution_count": 25,
      "outputs": [
        {
          "output_type": "stream",
          "name": "stdout",
          "text": [
            "input shape: (166, 9) and output shape: (166, 25)\n"
          ]
        }
      ]
    },
    {
      "cell_type": "markdown",
      "metadata": {
        "id": "ZSAUr67wqpBG"
      },
      "source": [
        "#Building the Model"
      ]
    },
    {
      "cell_type": "code",
      "metadata": {
        "id": "IknPaioNiLwC"
      },
      "source": [
        "#hyperparameters\n",
        "epochs=50\n",
        "vocab_size=len(tokenizer.word_index) + 1\n",
        "embed_dim=512\n",
        "units=128\n",
        "target_length=target_tensor.shape[1]"
      ],
      "execution_count": 26,
      "outputs": []
    },
    {
      "cell_type": "code",
      "metadata": {
        "colab": {
          "base_uri": "https://localhost:8080/"
        },
        "id": "Y5g67w7cq1dD",
        "outputId": "24bae55f-a0c7-424b-873c-324cd1a0c2ad"
      },
      "source": [
        "# build RNN Model with tensorflow\n",
        "model = tf.keras.models.Sequential([\n",
        "    tf.keras.layers.Embedding(vocab_size, embed_dim),\n",
        "    tf.keras.layers.Bidirectional(tf.keras.layers.LSTM(units, dropout=0.2)),\n",
        "    tf.keras.layers.Dense(units, activation='relu'),\n",
        "    tf.keras.layers.Dropout(0.5),\n",
        "    tf.keras.layers.Dense(target_length, activation='softmax')\n",
        "])\n",
        "\n",
        "optimizer = tf.keras.optimizers.Adam(lr=1e-2)\n",
        "model.compile(optimizer=optimizer, loss='categorical_crossentropy', metrics=['accuracy'])\n",
        "model.summary()"
      ],
      "execution_count": 27,
      "outputs": [
        {
          "output_type": "stream",
          "name": "stdout",
          "text": [
            "Model: \"sequential_1\"\n",
            "_________________________________________________________________\n",
            " Layer (type)                Output Shape              Param #   \n",
            "=================================================================\n",
            " embedding_1 (Embedding)     (None, None, 512)         75776     \n",
            "                                                                 \n",
            " bidirectional_1 (Bidirectio  (None, 256)              656384    \n",
            " nal)                                                            \n",
            "                                                                 \n",
            " dense_2 (Dense)             (None, 128)               32896     \n",
            "                                                                 \n",
            " dropout_1 (Dropout)         (None, 128)               0         \n",
            "                                                                 \n",
            " dense_3 (Dense)             (None, 25)                3225      \n",
            "                                                                 \n",
            "=================================================================\n",
            "Total params: 768,281\n",
            "Trainable params: 768,281\n",
            "Non-trainable params: 0\n",
            "_________________________________________________________________\n"
          ]
        },
        {
          "output_type": "stream",
          "name": "stderr",
          "text": [
            "/usr/local/lib/python3.7/dist-packages/keras/optimizer_v2/adam.py:105: UserWarning: The `lr` argument is deprecated, use `learning_rate` instead.\n",
            "  super(Adam, self).__init__(name, **kwargs)\n"
          ]
        }
      ]
    },
    {
      "cell_type": "code",
      "metadata": {
        "colab": {
          "base_uri": "https://localhost:8080/"
        },
        "id": "iegY7PxostN4",
        "outputId": "40e56744-db71-4236-eacc-137763b5f14f"
      },
      "source": [
        "early_stop = tf.keras.callbacks.EarlyStopping(monitor='loss', patience=4)\n",
        "\n",
        "# train the model\n",
        "model.fit(input_tensor, target_tensor, epochs=epochs, callbacks=[early_stop])"
      ],
      "execution_count": 28,
      "outputs": [
        {
          "output_type": "stream",
          "name": "stdout",
          "text": [
            "Epoch 1/50\n",
            "6/6 [==============================] - 4s 74ms/step - loss: 3.2082 - accuracy: 0.0723\n",
            "Epoch 2/50\n",
            "6/6 [==============================] - 0s 69ms/step - loss: 2.7387 - accuracy: 0.2169\n",
            "Epoch 3/50\n",
            "6/6 [==============================] - 0s 76ms/step - loss: 2.1069 - accuracy: 0.3855\n",
            "Epoch 4/50\n",
            "6/6 [==============================] - 0s 68ms/step - loss: 1.3202 - accuracy: 0.5964\n",
            "Epoch 5/50\n",
            "6/6 [==============================] - 0s 73ms/step - loss: 0.7678 - accuracy: 0.7410\n",
            "Epoch 6/50\n",
            "6/6 [==============================] - 0s 66ms/step - loss: 0.3780 - accuracy: 0.8976\n",
            "Epoch 7/50\n",
            "6/6 [==============================] - 0s 71ms/step - loss: 0.2090 - accuracy: 0.9398\n",
            "Epoch 8/50\n",
            "6/6 [==============================] - 0s 67ms/step - loss: 0.1451 - accuracy: 0.9759\n",
            "Epoch 9/50\n",
            "6/6 [==============================] - 0s 67ms/step - loss: 0.0710 - accuracy: 0.9759\n",
            "Epoch 10/50\n",
            "6/6 [==============================] - 0s 68ms/step - loss: 0.0542 - accuracy: 0.9940\n",
            "Epoch 11/50\n",
            "6/6 [==============================] - 0s 76ms/step - loss: 0.0311 - accuracy: 0.9880\n",
            "Epoch 12/50\n",
            "6/6 [==============================] - 0s 74ms/step - loss: 0.0298 - accuracy: 0.9940\n",
            "Epoch 13/50\n",
            "6/6 [==============================] - 0s 70ms/step - loss: 0.0285 - accuracy: 0.9880\n",
            "Epoch 14/50\n",
            "6/6 [==============================] - 0s 75ms/step - loss: 0.0301 - accuracy: 0.9940\n",
            "Epoch 15/50\n",
            "6/6 [==============================] - 0s 72ms/step - loss: 0.0207 - accuracy: 0.9940\n",
            "Epoch 16/50\n",
            "6/6 [==============================] - 0s 71ms/step - loss: 0.0134 - accuracy: 1.0000\n",
            "Epoch 17/50\n",
            "6/6 [==============================] - 0s 68ms/step - loss: 0.0233 - accuracy: 1.0000\n",
            "Epoch 18/50\n",
            "6/6 [==============================] - 0s 66ms/step - loss: 0.0136 - accuracy: 1.0000\n",
            "Epoch 19/50\n",
            "6/6 [==============================] - 0s 70ms/step - loss: 0.0110 - accuracy: 1.0000\n",
            "Epoch 20/50\n",
            "6/6 [==============================] - 0s 68ms/step - loss: 0.0078 - accuracy: 1.0000\n",
            "Epoch 21/50\n",
            "6/6 [==============================] - 0s 75ms/step - loss: 0.0047 - accuracy: 1.0000\n",
            "Epoch 22/50\n",
            "6/6 [==============================] - 0s 72ms/step - loss: 0.0028 - accuracy: 1.0000\n",
            "Epoch 23/50\n",
            "6/6 [==============================] - 0s 71ms/step - loss: 0.0110 - accuracy: 1.0000\n",
            "Epoch 24/50\n",
            "6/6 [==============================] - 0s 74ms/step - loss: 0.0030 - accuracy: 1.0000\n",
            "Epoch 25/50\n",
            "6/6 [==============================] - 0s 67ms/step - loss: 0.0056 - accuracy: 1.0000\n",
            "Epoch 26/50\n",
            "6/6 [==============================] - 0s 74ms/step - loss: 0.0016 - accuracy: 1.0000\n",
            "Epoch 27/50\n",
            "6/6 [==============================] - 0s 71ms/step - loss: 0.0036 - accuracy: 1.0000\n",
            "Epoch 28/50\n",
            "6/6 [==============================] - 0s 68ms/step - loss: 0.0057 - accuracy: 1.0000\n",
            "Epoch 29/50\n",
            "6/6 [==============================] - 0s 69ms/step - loss: 0.0027 - accuracy: 1.0000\n",
            "Epoch 30/50\n",
            "6/6 [==============================] - 0s 71ms/step - loss: 0.0086 - accuracy: 1.0000\n"
          ]
        },
        {
          "output_type": "execute_result",
          "data": {
            "text/plain": [
              "<keras.callbacks.History at 0x7f30a18758d0>"
            ]
          },
          "metadata": {},
          "execution_count": 28
        }
      ]
    },
    {
      "cell_type": "markdown",
      "metadata": {
        "id": "2tqLeoMfEonJ"
      },
      "source": [
        "#**Working of GeniSys**"
      ]
    },
    {
      "cell_type": "code",
      "metadata": {
        "colab": {
          "base_uri": "https://localhost:8080/"
        },
        "id": "U8R2vbOYswwp",
        "outputId": "7e892be8-5f66-4eab-d782-1fae10a4b840"
      },
      "source": [
        "def response(sentence):\n",
        "    sent_seq = []\n",
        "    doc = nlp(repr(sentence))\n",
        "    \n",
        "    # split the input sentences into words\n",
        "    for token in doc:\n",
        "        if token.text in tokenizer.word_index:\n",
        "            sent_seq.append(tokenizer.word_index[token.text])\n",
        "\n",
        "        # handle the unknown words error\n",
        "        else:\n",
        "            sent_seq.append(tokenizer.word_index['<unk>'])\n",
        "\n",
        "    sent_seq = tf.expand_dims(sent_seq, 0)\n",
        "    # predict the category of input sentences\n",
        "    pred = model(sent_seq)\n",
        "\n",
        "    pred_class = np.argmax(pred.numpy(), axis=1)\n",
        "    \n",
        "    # choice a random response for predicted sentence\n",
        "    return random.choice(intent_doc[trg_index_word[pred_class[0]]]), trg_index_word[pred_class[0]]\n",
        "\n",
        "# chat with bot\n",
        "print(\"Note: Enter 'quit' to break the loop.\")\n",
        "while True:\n",
        "    input_ = input('You:-- ')\n",
        "    if input_.lower() == 'quit':\n",
        "        break\n",
        "    res, typ = response(input_)\n",
        "    print('GeniSys:--{}'.format(res))\n",
        "    print()"
      ],
      "execution_count": 29,
      "outputs": [
        {
          "name": "stdout",
          "output_type": "stream",
          "text": [
            "Note: Enter 'quit' to break the loop.\n",
            "You:-- hello\n",
            "GeniSys:--Hi user, please tell me your username\n",
            "\n",
            "You:-- My name is Arpita\n",
            "GeniSys:--They call you <HUMAN>, what can I do for you?\n",
            "\n",
            "You:-- i want admission\n",
            "GeniSys:--Please refer to this link, which i hope might help : https://www.srmist.edu.in/content/admission-india-portal\n",
            "\n",
            "You:-- i want to pay my fees\n",
            "GeniSys:--Kindly refer to this link to solve your query: https://feekart.srmist.edu.in/srmopp/\n",
            "\n",
            "You:-- i want to book hostel\n",
            "GeniSys:--Please refer to this link, which i hope might help : https://www.srmist.edu.in/aboutus/welcome-srm-hostels\n",
            "\n",
            "You:-- ok\n",
            "GeniSys:--Bye! Come back again soon.\n",
            "\n",
            "You:-- quit\n"
          ]
        }
      ]
    }
  ]
}