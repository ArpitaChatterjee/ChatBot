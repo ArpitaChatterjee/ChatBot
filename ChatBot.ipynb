{
  "nbformat": 4,
  "nbformat_minor": 0,
  "metadata": {
    "colab": {
      "name": "ChatBot.ipynb",
      "provenance": [],
      "mount_file_id": "1cQ711UC7g4xcA72gUjzv3dzIcQnZIIdA",
      "authorship_tag": "ABX9TyOUNllxg3rrwZI4kmpfbYpi",
      "include_colab_link": true
    },
    "kernelspec": {
      "name": "python3",
      "display_name": "Python 3"
    },
    "language_info": {
      "name": "python"
    }
  },
  "cells": [
    {
      "cell_type": "markdown",
      "metadata": {
        "id": "view-in-github",
        "colab_type": "text"
      },
      "source": [
        "<a href=\"https://colab.research.google.com/github/ArpitaChatterjee/Demo-ChatBot/blob/main/ChatBot.ipynb\" target=\"_parent\"><img src=\"https://colab.research.google.com/assets/colab-badge.svg\" alt=\"Open In Colab\"/></a>"
      ]
    },
    {
      "cell_type": "markdown",
      "metadata": {
        "id": "PMFCwCmGdMMX"
      },
      "source": [
        "#Import Libraries"
      ]
    },
    {
      "cell_type": "code",
      "metadata": {
        "id": "XrvbDaD3dECg"
      },
      "source": [
        "import numpy as np\n",
        "import json\n",
        "import re\n",
        "import tensorflow as tf\n",
        "import random\n",
        "import spacy\n",
        "nlp = spacy.load('en_core_web_sm')"
      ],
      "execution_count": 1,
      "outputs": []
    },
    {
      "cell_type": "markdown",
      "metadata": {
        "id": "Q6CdYn9Wd3Ou"
      },
      "source": [
        "##Import JSON file"
      ]
    },
    {
      "cell_type": "code",
      "metadata": {
        "id": "q5l6riL9dPZf"
      },
      "source": [
        "with open('/content/drive/MyDrive/Colab Notebooks/ChatBot/Intent.json') as f:\n",
        "  intents= json.load(f)"
      ],
      "execution_count": 2,
      "outputs": []
    },
    {
      "cell_type": "markdown",
      "metadata": {
        "id": "zrbkPb-AeFKj"
      },
      "source": [
        "##Preprocessing Data\n",
        "\n",
        "- Clean the data\n",
        "- split them into inputs and target tensors\n",
        "-build  a tokenizer dictionary and turn sentences into sequences.\n",
        "\n",
        "The target tensors has a bunch of list with a length of unique title list.\n"
      ]
    },
    {
      "cell_type": "code",
      "metadata": {
        "id": "X5gWndA7eDfL"
      },
      "source": [
        "def preprocessing(line):\n",
        "  line= re.sub(r'[^a-zA-z.?!\\']', ' ', line)\n",
        "  line= re.sub(r'[ ]+', ' ', line)\n",
        "  return line"
      ],
      "execution_count": 4,
      "outputs": []
    },
    {
      "cell_type": "code",
      "metadata": {
        "id": "-OJvQDMvfzfF"
      },
      "source": [
        "#get text and intent title from json data\n",
        "inputs, targets= [], []\n",
        "classes= []\n",
        "intent_doc= {}\n",
        "\n",
        "for intent in intents['intents']:\n",
        "  if intent['intent'] not in classes:\n",
        "    classes.append(intent['intent'])\n",
        "  if intent['intent'] not in intent_doc:\n",
        "    intent_doc[intent['intent']] = []\n",
        "        \n",
        "  for text in intent['text']:\n",
        "    inputs.append(preprocessing(text))\n",
        "    targets.append(intent['intent'])\n",
        "        \n",
        "  for response in intent['responses']:\n",
        "    intent_doc[intent['intent']].append(response)"
      ],
      "execution_count": 5,
      "outputs": []
    },
    {
      "cell_type": "code",
      "metadata": {
        "id": "L06vjBMwgmQ6"
      },
      "source": [
        "#tokenize\n",
        "def tokenize_data(input_list):\n",
        "  tokenizer= tf.keras.preprocessing.text.Tokenizer(filters='', oov_token='<unk>')\n",
        "\n",
        "  tokenizer.fit_on_texts(input_list)\n",
        "  input_seq = tokenizer.texts_to_sequences(input_list)\n",
        "  input_seq = tf.keras.preprocessing.sequence.pad_sequences(input_seq, padding='pre')\n",
        "\n",
        "  return tokenizer, input_seq\n",
        "\n",
        "#preprocess input data\n",
        "tokenizer , input_tensor = tokenize_data(inputs)"
      ],
      "execution_count": 7,
      "outputs": []
    },
    {
      "cell_type": "code",
      "metadata": {
        "id": "MmwGL-rwhu98"
      },
      "source": [
        "def create_categorical_target(targets):\n",
        "    word={}\n",
        "    categorical_target=[]\n",
        "    counter=0\n",
        "    for trg in targets:\n",
        "        if trg not in word:\n",
        "            word[trg]=counter\n",
        "            counter+=1\n",
        "        categorical_target.append(word[trg])\n",
        "    \n",
        "    categorical_tensor = tf.keras.utils.to_categorical(categorical_target, num_classes=len(word), dtype='int32')\n",
        "    return categorical_tensor, dict((v,k) for k, v in word.items())\n",
        "\n",
        "# preprocess output data\n",
        "target_tensor, trg_index_word = create_categorical_target(targets)"
      ],
      "execution_count": 8,
      "outputs": []
    },
    {
      "cell_type": "code",
      "metadata": {
        "colab": {
          "base_uri": "https://localhost:8080/"
        },
        "id": "JdLcOpsgiIBz",
        "outputId": "79088122-ad07-4c1c-bb06-109d34ca4c2d"
      },
      "source": [
        "print('input shape: {} and output shape: {}'.format(input_tensor.shape, target_tensor.shape))"
      ],
      "execution_count": 9,
      "outputs": [
        {
          "output_type": "stream",
          "name": "stdout",
          "text": [
            "input shape: (143, 9) and output shape: (143, 22)\n"
          ]
        }
      ]
    },
    {
      "cell_type": "markdown",
      "metadata": {
        "id": "ZSAUr67wqpBG"
      },
      "source": [
        "##Building the Model"
      ]
    },
    {
      "cell_type": "code",
      "metadata": {
        "id": "IknPaioNiLwC"
      },
      "source": [
        "#hyperparameters\n",
        "epochs=50\n",
        "vocab_size=len(tokenizer.word_index) + 1\n",
        "embed_dim=512\n",
        "units=128\n",
        "target_length=target_tensor.shape[1]"
      ],
      "execution_count": 10,
      "outputs": []
    },
    {
      "cell_type": "code",
      "metadata": {
        "colab": {
          "base_uri": "https://localhost:8080/"
        },
        "id": "Y5g67w7cq1dD",
        "outputId": "5a1103b3-4647-418b-c027-cd9acfda0316"
      },
      "source": [
        "# build RNN Model with tensorflow\n",
        "model = tf.keras.models.Sequential([\n",
        "    tf.keras.layers.Embedding(vocab_size, embed_dim),\n",
        "    tf.keras.layers.Bidirectional(tf.keras.layers.LSTM(units, dropout=0.2)),\n",
        "    tf.keras.layers.Dense(units, activation='relu'),\n",
        "    tf.keras.layers.Dropout(0.5),\n",
        "    tf.keras.layers.Dense(target_length, activation='softmax')\n",
        "])\n",
        "\n",
        "optimizer = tf.keras.optimizers.Adam(lr=1e-2)\n",
        "model.compile(optimizer=optimizer, loss='categorical_crossentropy', metrics=['accuracy'])\n",
        "model.summary()"
      ],
      "execution_count": 11,
      "outputs": [
        {
          "output_type": "stream",
          "name": "stdout",
          "text": [
            "Model: \"sequential\"\n",
            "_________________________________________________________________\n",
            "Layer (type)                 Output Shape              Param #   \n",
            "=================================================================\n",
            "embedding (Embedding)        (None, None, 512)         66048     \n",
            "_________________________________________________________________\n",
            "bidirectional (Bidirectional (None, 256)               656384    \n",
            "_________________________________________________________________\n",
            "dense (Dense)                (None, 128)               32896     \n",
            "_________________________________________________________________\n",
            "dropout (Dropout)            (None, 128)               0         \n",
            "_________________________________________________________________\n",
            "dense_1 (Dense)              (None, 22)                2838      \n",
            "=================================================================\n",
            "Total params: 758,166\n",
            "Trainable params: 758,166\n",
            "Non-trainable params: 0\n",
            "_________________________________________________________________\n"
          ]
        },
        {
          "output_type": "stream",
          "name": "stderr",
          "text": [
            "/usr/local/lib/python3.7/dist-packages/keras/optimizer_v2/optimizer_v2.py:356: UserWarning: The `lr` argument is deprecated, use `learning_rate` instead.\n",
            "  \"The `lr` argument is deprecated, use `learning_rate` instead.\")\n"
          ]
        }
      ]
    },
    {
      "cell_type": "code",
      "metadata": {
        "colab": {
          "base_uri": "https://localhost:8080/"
        },
        "id": "iegY7PxostN4",
        "outputId": "b55597f7-1a89-4bd1-e8e4-283f4d25803a"
      },
      "source": [
        "early_stop = tf.keras.callbacks.EarlyStopping(monitor='loss', patience=4)\n",
        "\n",
        "# train the model\n",
        "model.fit(input_tensor, target_tensor, epochs=epochs, callbacks=[early_stop])"
      ],
      "execution_count": 12,
      "outputs": [
        {
          "output_type": "stream",
          "name": "stdout",
          "text": [
            "Epoch 1/50\n",
            "5/5 [==============================] - 4s 66ms/step - loss: 3.1261 - accuracy: 0.0559\n",
            "Epoch 2/50\n",
            "5/5 [==============================] - 0s 63ms/step - loss: 2.6289 - accuracy: 0.2727\n",
            "Epoch 3/50\n",
            "5/5 [==============================] - 0s 58ms/step - loss: 2.0155 - accuracy: 0.4266\n",
            "Epoch 4/50\n",
            "5/5 [==============================] - 0s 63ms/step - loss: 1.3833 - accuracy: 0.5804\n",
            "Epoch 5/50\n",
            "5/5 [==============================] - 0s 57ms/step - loss: 0.9421 - accuracy: 0.7343\n",
            "Epoch 6/50\n",
            "5/5 [==============================] - 0s 60ms/step - loss: 0.4827 - accuracy: 0.8531\n",
            "Epoch 7/50\n",
            "5/5 [==============================] - 0s 53ms/step - loss: 0.3636 - accuracy: 0.8951\n",
            "Epoch 8/50\n",
            "5/5 [==============================] - 0s 56ms/step - loss: 0.1350 - accuracy: 0.9720\n",
            "Epoch 9/50\n",
            "5/5 [==============================] - 0s 58ms/step - loss: 0.1006 - accuracy: 0.9720\n",
            "Epoch 10/50\n",
            "5/5 [==============================] - 0s 56ms/step - loss: 0.0682 - accuracy: 0.9790\n",
            "Epoch 11/50\n",
            "5/5 [==============================] - 0s 60ms/step - loss: 0.0360 - accuracy: 0.9930\n",
            "Epoch 12/50\n",
            "5/5 [==============================] - 0s 61ms/step - loss: 0.0290 - accuracy: 0.9930\n",
            "Epoch 13/50\n",
            "5/5 [==============================] - 0s 58ms/step - loss: 0.0190 - accuracy: 1.0000\n",
            "Epoch 14/50\n",
            "5/5 [==============================] - 0s 61ms/step - loss: 0.0087 - accuracy: 1.0000\n",
            "Epoch 15/50\n",
            "5/5 [==============================] - 0s 59ms/step - loss: 0.0145 - accuracy: 1.0000\n",
            "Epoch 16/50\n",
            "5/5 [==============================] - 0s 58ms/step - loss: 0.0073 - accuracy: 1.0000\n",
            "Epoch 17/50\n",
            "5/5 [==============================] - 0s 61ms/step - loss: 0.0114 - accuracy: 1.0000\n",
            "Epoch 18/50\n",
            "5/5 [==============================] - 0s 60ms/step - loss: 0.0038 - accuracy: 1.0000\n",
            "Epoch 19/50\n",
            "5/5 [==============================] - 0s 58ms/step - loss: 0.0022 - accuracy: 1.0000\n",
            "Epoch 20/50\n",
            "5/5 [==============================] - 0s 60ms/step - loss: 0.0055 - accuracy: 1.0000\n",
            "Epoch 21/50\n",
            "5/5 [==============================] - 0s 59ms/step - loss: 0.0096 - accuracy: 1.0000\n",
            "Epoch 22/50\n",
            "5/5 [==============================] - 0s 57ms/step - loss: 0.0093 - accuracy: 0.9930\n",
            "Epoch 23/50\n",
            "5/5 [==============================] - 0s 59ms/step - loss: 0.0023 - accuracy: 1.0000\n"
          ]
        },
        {
          "output_type": "execute_result",
          "data": {
            "text/plain": [
              "<keras.callbacks.History at 0x7f3828f267d0>"
            ]
          },
          "metadata": {},
          "execution_count": 12
        }
      ]
    },
    {
      "cell_type": "code",
      "metadata": {
        "colab": {
          "base_uri": "https://localhost:8080/"
        },
        "id": "U8R2vbOYswwp",
        "outputId": "281e25d1-c370-4176-9930-a9f3fdd46cdb"
      },
      "source": [
        "def response(sentence):\n",
        "    sent_seq = []\n",
        "    doc = nlp(repr(sentence))\n",
        "    \n",
        "    # split the input sentences into words\n",
        "    for token in doc:\n",
        "        if token.text in tokenizer.word_index:\n",
        "            sent_seq.append(tokenizer.word_index[token.text])\n",
        "\n",
        "        # handle the unknown words error\n",
        "        else:\n",
        "            sent_seq.append(tokenizer.word_index['<unk>'])\n",
        "\n",
        "    sent_seq = tf.expand_dims(sent_seq, 0)\n",
        "    # predict the category of input sentences\n",
        "    pred = model(sent_seq)\n",
        "\n",
        "    pred_class = np.argmax(pred.numpy(), axis=1)\n",
        "    \n",
        "    # choice a random response for predicted sentence\n",
        "    return random.choice(intent_doc[trg_index_word[pred_class[0]]]), trg_index_word[pred_class[0]]\n",
        "\n",
        "# chat with bot\n",
        "print(\"Note: Enter 'quit' to break the loop.\")\n",
        "while True:\n",
        "    input_ = input('You: ')\n",
        "    if input_.lower() == 'quit':\n",
        "        break\n",
        "    res, typ = response(input_)\n",
        "    print('Bot: {} -- TYPE: {}'.format(res, typ))\n",
        "    print()"
      ],
      "execution_count": 13,
      "outputs": [
        {
          "name": "stdout",
          "output_type": "stream",
          "text": [
            "Note: Enter 'quit' to break the loop.\n",
            "You: hello\n",
            "Bot: Hola human, please tell me your GeniSys user -- TYPE: Greeting\n",
            "\n",
            "You: how are you\n",
            "Bot: Hi, I am good thank you, how are you? Please tell me your GeniSys user -- TYPE: CourtesyGreeting\n",
            "\n",
            "You: whats your name\n",
            "Bot: Your name is <HUMAN>, how can I help you? -- TYPE: CurrentHumanQuery\n",
            "\n",
            "You: what's your name ?\n",
            "Bot: Your name is <HUMAN>, how can I help you? -- TYPE: CurrentHumanQuery\n",
            "\n",
            "You: no i want your real name\n",
            "Bot: My real name is GeniSys -- TYPE: RealNameQuery\n",
            "\n",
            "You: can you tell me if you are self- aware\n",
            "Bot: Your name is <HUMAN>, how can I help you? -- TYPE: CurrentHumanQuery\n",
            "\n",
            "You: Can you tell me if you are self-aware ?\n",
            "Bot: You are <HUMAN>! How can I help? -- TYPE: CurrentHumanQuery\n",
            "\n",
            "You: tell me a joke \n",
            "Bot: Man: Doctor, I've just swallowed a pillow. Doctor: How do you feel? Man: A little down in the mouth. -- TYPE: Jokes\n",
            "\n",
            "You: can you open the door please ?\n",
            "Bot: I’m sorry, I’m afraid I can’t do that! -- TYPE: PodBayDoor\n",
            "\n",
            "You: are you self-aware ?\n",
            "Bot: That depends, can you prove that you are? -- TYPE: SelfAware\n",
            "\n",
            "You: quit \n",
            "Bot: See you later -- TYPE: GoodBye\n",
            "\n",
            "You: .\n",
            "Bot: Have a nice day -- TYPE: GoodBye\n",
            "\n",
            "You: bye\n",
            "Bot: Bye! Come back again soon. -- TYPE: GoodBye\n",
            "\n",
            "You: quit\n"
          ]
        }
      ]
    },
    {
      "cell_type": "code",
      "metadata": {
        "id": "xEX9R2MDwWmE"
      },
      "source": [
        ""
      ],
      "execution_count": null,
      "outputs": []
    }
  ]
}